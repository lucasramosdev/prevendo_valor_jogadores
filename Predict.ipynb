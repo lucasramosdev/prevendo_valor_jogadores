{
 "cells": [
  {
   "cell_type": "code",
   "execution_count": 56,
   "id": "7ed03791",
   "metadata": {},
   "outputs": [],
   "source": [
    "import pandas as pd\n",
    "import utils\n",
    "from sklearn.preprocessing import MinMaxScaler"
   ]
  },
  {
   "cell_type": "code",
   "execution_count": 57,
   "id": "c7c825c5",
   "metadata": {},
   "outputs": [],
   "source": [
    "import pickle\n",
    "\n",
    "# Carregar modelo\n",
    "with open('previsao_valor_jogadores.pkl', 'rb') as f:\n",
    "    model = pickle.load(f)\n",
    "\n",
    "# Carregar o scaler\n",
    "with open('scaler.pkl', 'rb') as f:\n",
    "    scaler = pickle.load(f)\n",
    "    "
   ]
  },
  {
   "cell_type": "code",
   "execution_count": 58,
   "id": "0b7257e8",
   "metadata": {
    "scrolled": true
   },
   "outputs": [],
   "source": [
    "def predict_player_value(name, date):\n",
    "    if utils.verify_player_in_base(name) == False:\n",
    "        return 'Jogador não encotrado na base'\n",
    "    \n",
    "    player = utils.get_player(name)\n",
    "    player_id = player['player_id'].values[0]\n",
    "    \n",
    "    predict_input = pd.DataFrame({'player_id': [player_id], 'date': [date]})\n",
    "    predict_input['date'] = pd.to_datetime(predict_input['date']).astype('int64')\n",
    "    \n",
    "    predict_input = pd.DataFrame(scaler.transform(predict_input), columns=predict_input.columns)\n",
    "    \n",
    "    output_pred = model.predict(predict_input)\n",
    "    \n",
    "    print(predict_input, output_pred)"
   ]
  },
  {
   "cell_type": "code",
   "execution_count": 59,
   "id": "b07dd3f0",
   "metadata": {},
   "outputs": [
    {
     "name": "stdout",
     "output_type": "stream",
     "text": [
      "\n",
      "   player_id      date\n",
      "0   0.061364  0.681887 [0]\n"
     ]
    }
   ],
   "source": [
    "predict_player_value('Neymar', '2025-08-05')"
   ]
  }
 ],
 "metadata": {
  "kernelspec": {
   "display_name": "tf",
   "language": "python",
   "name": "tf"
  },
  "language_info": {
   "codemirror_mode": {
    "name": "ipython",
    "version": 3
   },
   "file_extension": ".py",
   "mimetype": "text/x-python",
   "name": "python",
   "nbconvert_exporter": "python",
   "pygments_lexer": "ipython3",
   "version": "3.10.11"
  }
 },
 "nbformat": 4,
 "nbformat_minor": 5
}
